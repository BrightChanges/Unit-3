{
  "nbformat": 4,
  "nbformat_minor": 0,
  "metadata": {
    "colab": {
      "name": "Class Exercise_Kien Le Trung",
      "provenance": [],
      "authorship_tag": "ABX9TyNDK4wpJjnv2bVn3xGG9Xp/",
      "include_colab_link": true
    },
    "kernelspec": {
      "name": "python3",
      "display_name": "Python 3"
    }
  },
  "cells": [
    {
      "cell_type": "markdown",
      "metadata": {
        "id": "view-in-github",
        "colab_type": "text"
      },
      "source": [
        "<a href=\"https://colab.research.google.com/github/BrightChanges/Unit-3/blob/main/Googlecolab_Class_Exercise_Kien_Le_Trung.ipynb\" target=\"_parent\"><img src=\"https://colab.research.google.com/assets/colab-badge.svg\" alt=\"Open In Colab\"/></a>"
      ]
    },
    {
      "cell_type": "markdown",
      "metadata": {
        "id": "_x8imntgmbq_"
      },
      "source": [
        "Class Exercise"
      ]
    },
    {
      "cell_type": "markdown",
      "metadata": {
        "id": "Wgrm9u3rlmZR"
      },
      "source": [
        "Context: An app that lets students order breakfasts and get them delivered\n"
      ]
    },
    {
      "cell_type": "code",
      "metadata": {
        "id": "YnUkvlAXkGs4"
      },
      "source": [
        "# Class Exercise\n",
        "\n",
        "\n",
        "\n",
        "class Breakfast_orders():\n",
        "  #constructor: here the attributes are defined\n",
        "  def __init__(self):\n",
        "    self.food = \"none\"\n",
        "    self.price = 300\n",
        "    self.delivery_address = \"none\"\n",
        "\n",
        "  def get_delivery_address(self):\n",
        "    return self.delivery_address\n",
        "  "
      ],
      "execution_count": null,
      "outputs": []
    },
    {
      "cell_type": "code",
      "metadata": {
        "colab": {
          "base_uri": "https://localhost:8080/"
        },
        "id": "SoCHj9cDlvFa",
        "outputId": "dc4ffac6-2d88-491d-ffb6-8aefcb0ccc68"
      },
      "source": [
        "#Create an object of the class Breakfast Orders\n",
        "order_1 = Breakfast_orders()\n",
        "print(order_1.get_delivery_address())"
      ],
      "execution_count": null,
      "outputs": [
        {
          "output_type": "stream",
          "text": [
            "none\n"
          ],
          "name": "stdout"
        }
      ]
    }
  ]
}