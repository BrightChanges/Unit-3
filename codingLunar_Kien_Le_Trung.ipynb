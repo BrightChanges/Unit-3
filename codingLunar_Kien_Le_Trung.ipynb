{
  "nbformat": 4,
  "nbformat_minor": 0,
  "metadata": {
    "colab": {
      "name": "codingLunar_Kien Le Trung",
      "provenance": [],
      "collapsed_sections": [],
      "authorship_tag": "ABX9TyONN9eqaWQPh6weFNAKrYVh",
      "include_colab_link": true
    },
    "kernelspec": {
      "name": "python3",
      "display_name": "Python 3"
    }
  },
  "cells": [
    {
      "cell_type": "markdown",
      "metadata": {
        "id": "view-in-github",
        "colab_type": "text"
      },
      "source": [
        "<a href=\"https://colab.research.google.com/github/BrightChanges/Unit-3/blob/main/codingLunar_Kien_Le_Trung.ipynb\" target=\"_parent\"><img src=\"https://colab.research.google.com/assets/colab-badge.svg\" alt=\"Open In Colab\"/></a>"
      ]
    },
    {
      "cell_type": "markdown",
      "metadata": {
        "id": "rgKLqy0Rgz-d"
      },
      "source": [
        " ### 1. In a town there are X men, each man has X wives and each wife has X kids, you should print the total T number of people in this town.\n",
        "Example\n",
        "Input\n",
        "7\n",
        "Output\n",
        "399\n"
      ]
    },
    {
      "cell_type": "code",
      "metadata": {
        "colab": {
          "base_uri": "https://localhost:8080/"
        },
        "id": "QmLHYkzqgwM1",
        "outputId": "118b938a-d4a7-4f0d-8d5c-d205b6afbee5"
      },
      "source": [
        "def TownPopulationTotal(A):\n",
        "    output = A + A*A + A*A*A\n",
        "\n",
        "    return output\n",
        "\n",
        "\n",
        "\n",
        "test1 = 7\n",
        "\n",
        "print(TownPopulationTotal(test1))"
      ],
      "execution_count": 1,
      "outputs": [
        {
          "output_type": "stream",
          "text": [
            "399\n"
          ],
          "name": "stdout"
        }
      ]
    },
    {
      "cell_type": "markdown",
      "metadata": {
        "id": "28nsrmROhLSy"
      },
      "source": [
        "### 2.For decode it follow rules:\n",
        "### 1) Convert each characters to integer\n",
        "### 2) Make the sum of each characters\n",
        "### 3) Multiply it by 2\n",
        "### 4) Replace all odd numbers by \"@\"\n",
        "### 5) Add \" thnx tanaka\"\n",
        "\n",
        "Example\n",
        "Input\n",
        "5121321321321321321\n",
        "Output\n",
        "@8 thnx tanaka"
      ]
    },
    {
      "cell_type": "code",
      "metadata": {
        "colab": {
          "base_uri": "https://localhost:8080/"
        },
        "id": "gypUT5cmhT9i",
        "outputId": "164c71c9-d572-4367-f1e1-e0845af63cfd"
      },
      "source": [
        "def Converter(S):\n",
        "  higher_alphabets = ['A','B','C','D','E','F','G','H','I','J','K','L','M','N','O','P','Q','R','S','T','U','V','W','X','Y','Z']\n",
        "  lower_alphabets = ['a','b','c','d','e','f','g','h','i','j','k','l','m','n','o','p','q','r','s','t','u','v','w','x','y','z']\n",
        "  integers = [1,2,3,4,5,6,7,8,9,10,11,12,13,14,15,16,17,18,19,20,21,22,23,24,25,26]\n",
        "  decoded = []\n",
        "  total = 0\n",
        "  total_x2 = 0\n",
        "  total_after_replace_odd_numbers= []\n",
        "  \n",
        "#string in Python is immutable/cannot be changed.\n",
        "#1) Convert each characters to integer:\n",
        "\n",
        "  index = 0\n",
        " \n",
        "  for i in range(len(S)):\n",
        "  \n",
        "    for x in range(len(higher_alphabets)):\n",
        "      if S[i] == higher_alphabets[x] or S[i] == lower_alphabets[x] :\n",
        "        index = x\n",
        "        decoded.append(integers[index])\n",
        "  \n",
        "  #the coded below convert the decoded list into string:\n",
        "  string_decoded = ''.join(str(e) for e in decoded)\n",
        "  print(\"1) Convert each characters to integer: {}\".format(string_decoded))\n",
        "\n",
        "  for g in range(len(decoded)):\n",
        "    total += decoded[g]\n",
        "  print(\"2) Make the sum of each characters: {}\".format(total))\n",
        "\n",
        "  for h in range(len(decoded)):\n",
        "    decoded[h] = decoded[h]*2\n",
        "    total_x2 += decoded[h]\n",
        "\n",
        "  print(\"3) Multiply it by 2: {} \".format(total_x2))\n",
        "\n",
        "  str_total_x2 = str(total_x2)\n",
        "  map_total_x2 = map(int,str_total_x2)\n",
        "  list_total_x2 = list(map_total_x2)\n",
        "\n",
        "  for k in range(len(list_total_x2)):\n",
        "    if list_total_x2[k]%2==1:\n",
        "      list_total_x2[k]=\"@\"\n",
        "  \n",
        "  \n",
        "  # print(\"4) Replace all odd numbers by @: {}\".format(list_total_x2))\n",
        "\n",
        "  string_decoded2 = ''.join(str(e) for e in list_total_x2)\n",
        "  print(\"4) Replace all odd numbers by @: {}\".format(string_decoded2))\n",
        "\n",
        "  final_result = string_decoded2 + \"thnx tanaka\"\n",
        "  print(\"5) Added 'thnx tanaka': {}\".format(final_result))\n",
        "\n",
        "test1 = 'Elephant'\n",
        "\n",
        "Converter(test1)\n",
        "\n"
      ],
      "execution_count": 30,
      "outputs": [
        {
          "output_type": "stream",
          "text": [
            "1) Convert each characters to integer: 512516811420\n",
            "2) Make the sum of each characters: 81\n",
            "3) Multiply it by 2: 162 \n",
            "4) Replace all odd numbers by @: @62\n",
            "5) Added 'thnx tanaka': @62thnx tanaka\n"
          ],
          "name": "stdout"
        }
      ]
    },
    {
      "cell_type": "markdown",
      "metadata": {
        "id": "1a8GwUPRvsc6"
      },
      "source": [
        "### 3. A number that is not a whole number can be either a decimal, fraction, or percentage. A decimal is a string that has a '.', a fraction has a '/', and a percentage ends with a '%'. Output all three ways to show the number not_whole.\n",
        "### The order should be decimal, fraction, and then percentage.\n",
        "\n",
        "### The fraction is not simplified fraction (it's denominator is 100). The decimal for an integer should be written with exactly one 0 after the decimal point.\n",
        "\n",
        "Example:\n",
        "If not_whole is 25%, you know that it is a percentage and you should output:\n",
        "0.25\n",
        "25/100\n",
        "25%"
      ]
    },
    {
      "cell_type": "code",
      "metadata": {
        "colab": {
          "base_uri": "https://localhost:8080/"
        },
        "id": "JRvD6NgOv1xn",
        "outputId": "0fa6fdd5-4ca4-4255-e7c6-38c376355e68"
      },
      "source": [
        "def Not_whole(A):\n",
        "\n",
        "  # index = 0\n",
        "  decimal = \"\"\n",
        "  percentage = \"\"\n",
        "  fraction = \"\"\n",
        "\n",
        "#check if the number is a percentage:\n",
        "  if A[-1] == '%':\n",
        "    decimal = str(int(A[0:-1])/100)\n",
        "    fraction = \"{}/100\".format(A[0:-1])\n",
        "    percentage = A\n",
        "\n",
        "#check if the number is a decimal:\n",
        "  elif A[1] == '.':\n",
        "    decimal = A\n",
        "    fraction = \"{}/100\".format(A[2:])\n",
        "    percentage = A[2:] + \"%\"\n",
        "\n",
        "#check if the number is a fraction:\n",
        "  for i in range(len(A)):\n",
        "    if A[i]==\"/\":\n",
        "      decimal = str(int(A[0:i])/100)\n",
        "      fraction = \"{}/100\".format(A[0:i])\n",
        "      percentage = A[0:i] + \"%\"\n",
        "  \n",
        "  print(decimal)\n",
        "  print(fraction)\n",
        "  print(percentage)\n",
        "\n",
        "test1 = \"25/100\"\n",
        "test2 = \"0.25\"\n",
        "test3 = \"25%\"\n",
        "\n",
        "Not_whole(test1)\n",
        "Not_whole(test2)\n",
        "Not_whole(test3)"
      ],
      "execution_count": 45,
      "outputs": [
        {
          "output_type": "stream",
          "text": [
            "0.25\n",
            "25/100\n",
            "25%\n",
            "0.25\n",
            "25/100\n",
            "25%\n",
            "0.25\n",
            "25/100\n",
            "25%\n"
          ],
          "name": "stdout"
        }
      ]
    }
  ]
}